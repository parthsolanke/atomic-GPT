{
 "cells": [
  {
   "cell_type": "code",
   "execution_count": 1,
   "metadata": {},
   "outputs": [],
   "source": [
    "import torch\n",
    "import torch.nn as nn\n",
    "from torch.nn import functional as F"
   ]
  },
  {
   "cell_type": "code",
   "execution_count": 2,
   "metadata": {},
   "outputs": [],
   "source": [
    "# reading input data\n",
    "with open(\"../data/tinyshakespeare.txt\", \"r\", encoding=\"utf-8\") as file:\n",
    "    data = file.read()"
   ]
  },
  {
   "cell_type": "code",
   "execution_count": 3,
   "metadata": {},
   "outputs": [
    {
     "name": "stdout",
     "output_type": "stream",
     "text": [
      "Length of dataset w.r.t chars: 1115394\n",
      "\n",
      "First Citizen:\n",
      "Before we proceed any further, hear me speak.\n",
      "\n",
      "All:\n",
      "Speak, speak.\n",
      "\n",
      "First Citizen:\n",
      "You are all resolved rather to die than to famish?\n",
      "\n",
      "All:\n",
      "Resolved. resolved.\n",
      "\n",
      "First Citizen:\n",
      "First, you know Caius Marcius is chief enemy to the people.\n",
      "\n",
      "All:\n",
      "We know't, we know't.\n",
      "\n",
      "First Citizen:\n",
      "Let us kill him, and we'll have corn at our own price.\n",
      "Is't a verdict?\n",
      "\n",
      "All:\n",
      "No more talking on't; let it be done: away, away!\n",
      "\n",
      "Second Citizen:\n",
      "One word, good citizens.\n",
      "\n",
      "First Citizen:\n",
      "We are accounted poor citizens, the patricians good.\n",
      "What authority surfeits on would relieve us: if they\n",
      "would yield us but the superfluity, while it were\n",
      "wholesome, we might guess they relieved us humanely;\n",
      "but they think we are too dear: the leanness that\n",
      "afflicts us, the object of our misery, is as an\n",
      "inventory to particularise their abundance; our\n",
      "sufferance is a gain to them Let us revenge this with\n",
      "our pikes, ere we become rakes: for the gods know I\n",
      "speak this in hunger for bread, not in thirst for revenge.\n",
      "\n",
      "\n"
     ]
    }
   ],
   "source": [
    "print(f\"Length of dataset w.r.t chars: {len(data)}\\n\")\n",
    "print(data[:1000])"
   ]
  },
  {
   "cell_type": "code",
   "execution_count": 4,
   "metadata": {},
   "outputs": [
    {
     "name": "stdout",
     "output_type": "stream",
     "text": [
      "\n",
      " !$&',-.3:;?ABCDEFGHIJKLMNOPQRSTUVWXYZabcdefghijklmnopqrstuvwxyz\n",
      "65\n"
     ]
    }
   ],
   "source": [
    "# all unique chars\n",
    "chars = sorted(list(set(data)))\n",
    "vocab_size = len(chars)\n",
    "print(\"\".join(chars))\n",
    "print(vocab_size)"
   ]
  },
  {
   "cell_type": "code",
   "execution_count": 5,
   "metadata": {},
   "outputs": [
    {
     "name": "stdout",
     "output_type": "stream",
     "text": [
      "[20, 43, 50, 50, 53, 1, 61, 53, 56, 50, 42, 2]\n",
      "Hello World!\n"
     ]
    }
   ],
   "source": [
    "# tokenization (mapping for char to int)\n",
    "ch_to_id = {ch:i for i, ch in enumerate(chars)}\n",
    "id_to_ch = {i:ch for i, ch in enumerate(chars)}\n",
    "def encode(s):\n",
    "    return [ch_to_id[c] for c in s] # encoder: take a string, output a list of integers\n",
    "def decode(l):\n",
    "    return ''.join([id_to_ch[i] for i in l]) # decoder: take a list of integers, output a string\n",
    "\n",
    "# tests\n",
    "print(encode(\"Hello world!\"))\n",
    "print(decode(encode(\"Hello World!\")))"
   ]
  },
  {
   "cell_type": "code",
   "execution_count": 6,
   "metadata": {},
   "outputs": [
    {
     "name": "stdout",
     "output_type": "stream",
     "text": [
      "torch.Size([1115394]) torch.int64\n",
      "tensor([18, 47, 56, 57, 58,  1, 15, 47, 58, 47, 64, 43, 52, 10,  0, 14, 43, 44,\n",
      "        53, 56, 43,  1, 61, 43,  1, 54, 56, 53, 41, 43, 43, 42,  1, 39, 52, 63,\n",
      "         1, 44, 59, 56, 58, 46, 43, 56,  6,  1, 46, 43, 39, 56,  1, 51, 43,  1,\n",
      "        57, 54, 43, 39, 49,  8,  0,  0, 13, 50, 50, 10,  0, 31, 54, 43, 39, 49,\n",
      "         6,  1, 57, 54, 43, 39, 49,  8,  0,  0, 18, 47, 56, 57, 58,  1, 15, 47,\n",
      "        58, 47, 64, 43, 52, 10,  0, 37, 53, 59,  1, 39, 56, 43,  1, 39, 50, 50,\n",
      "         1, 56, 43, 57, 53, 50, 60, 43, 42,  1, 56, 39, 58, 46, 43, 56,  1, 58,\n",
      "        53,  1, 42, 47, 43,  1, 58, 46, 39, 52,  1, 58, 53,  1, 44, 39, 51, 47,\n",
      "        57, 46, 12,  0,  0, 13, 50, 50, 10,  0, 30, 43, 57, 53, 50, 60, 43, 42,\n",
      "         8,  1, 56, 43, 57, 53, 50, 60, 43, 42,  8,  0,  0, 18, 47, 56, 57, 58,\n",
      "         1, 15, 47, 58, 47, 64, 43, 52, 10,  0, 18, 47, 56, 57, 58,  6,  1, 63,\n",
      "        53, 59,  1, 49, 52, 53, 61,  1, 15, 39, 47, 59, 57,  1, 25, 39, 56, 41,\n",
      "        47, 59, 57,  1, 47, 57,  1, 41, 46, 47, 43, 44,  1, 43, 52, 43, 51, 63,\n",
      "         1, 58, 53,  1, 58, 46, 43,  1, 54, 43, 53, 54, 50, 43,  8,  0,  0, 13,\n",
      "        50, 50, 10,  0, 35, 43,  1, 49, 52, 53, 61,  5, 58,  6,  1, 61, 43,  1,\n",
      "        49, 52, 53, 61,  5, 58,  8,  0,  0, 18, 47, 56, 57, 58,  1, 15, 47, 58,\n",
      "        47, 64, 43, 52, 10,  0, 24, 43, 58,  1, 59, 57,  1, 49, 47, 50, 50,  1,\n",
      "        46, 47, 51,  6,  1, 39, 52, 42,  1, 61, 43,  5, 50, 50,  1, 46, 39, 60,\n",
      "        43,  1, 41, 53, 56, 52,  1, 39, 58,  1, 53, 59, 56,  1, 53, 61, 52,  1,\n",
      "        54, 56, 47, 41, 43,  8,  0, 21, 57,  5, 58,  1, 39,  1, 60, 43, 56, 42,\n",
      "        47, 41, 58, 12,  0,  0, 13, 50, 50, 10,  0, 26, 53,  1, 51, 53, 56, 43,\n",
      "         1, 58, 39, 50, 49, 47, 52, 45,  1, 53, 52,  5, 58, 11,  1, 50, 43, 58,\n",
      "         1, 47, 58,  1, 40, 43,  1, 42, 53, 52, 43, 10,  1, 39, 61, 39, 63,  6,\n",
      "         1, 39, 61, 39, 63,  2,  0,  0, 31, 43, 41, 53, 52, 42,  1, 15, 47, 58,\n",
      "        47, 64, 43, 52, 10,  0, 27, 52, 43,  1, 61, 53, 56, 42,  6,  1, 45, 53,\n",
      "        53, 42,  1, 41, 47, 58, 47, 64, 43, 52, 57,  8,  0,  0, 18, 47, 56, 57,\n",
      "        58,  1, 15, 47, 58, 47, 64, 43, 52, 10,  0, 35, 43,  1, 39, 56, 43,  1,\n",
      "        39, 41, 41, 53, 59, 52, 58, 43, 42,  1, 54, 53, 53, 56,  1, 41, 47, 58,\n",
      "        47, 64, 43, 52, 57,  6,  1, 58, 46, 43,  1, 54, 39, 58, 56, 47, 41, 47,\n",
      "        39, 52, 57,  1, 45, 53, 53, 42,  8,  0, 35, 46, 39, 58,  1, 39, 59, 58,\n",
      "        46, 53, 56, 47, 58, 63,  1, 57, 59, 56, 44, 43, 47, 58, 57,  1, 53, 52,\n",
      "         1, 61, 53, 59, 50, 42,  1, 56, 43, 50, 47, 43, 60, 43,  1, 59, 57, 10,\n",
      "         1, 47, 44,  1, 58, 46, 43, 63,  0, 61, 53, 59, 50, 42,  1, 63, 47, 43,\n",
      "        50, 42,  1, 59, 57,  1, 40, 59, 58,  1, 58, 46, 43,  1, 57, 59, 54, 43,\n",
      "        56, 44, 50, 59, 47, 58, 63,  6,  1, 61, 46, 47, 50, 43,  1, 47, 58,  1,\n",
      "        61, 43, 56, 43,  0, 61, 46, 53, 50, 43, 57, 53, 51, 43,  6,  1, 61, 43,\n",
      "         1, 51, 47, 45, 46, 58,  1, 45, 59, 43, 57, 57,  1, 58, 46, 43, 63,  1,\n",
      "        56, 43, 50, 47, 43, 60, 43, 42,  1, 59, 57,  1, 46, 59, 51, 39, 52, 43,\n",
      "        50, 63, 11,  0, 40, 59, 58,  1, 58, 46, 43, 63,  1, 58, 46, 47, 52, 49,\n",
      "         1, 61, 43,  1, 39, 56, 43,  1, 58, 53, 53,  1, 42, 43, 39, 56, 10,  1,\n",
      "        58, 46, 43,  1, 50, 43, 39, 52, 52, 43, 57, 57,  1, 58, 46, 39, 58,  0,\n",
      "        39, 44, 44, 50, 47, 41, 58, 57,  1, 59, 57,  6,  1, 58, 46, 43,  1, 53,\n",
      "        40, 48, 43, 41, 58,  1, 53, 44,  1, 53, 59, 56,  1, 51, 47, 57, 43, 56,\n",
      "        63,  6,  1, 47, 57,  1, 39, 57,  1, 39, 52,  0, 47, 52, 60, 43, 52, 58,\n",
      "        53, 56, 63,  1, 58, 53,  1, 54, 39, 56, 58, 47, 41, 59, 50, 39, 56, 47,\n",
      "        57, 43,  1, 58, 46, 43, 47, 56,  1, 39, 40, 59, 52, 42, 39, 52, 41, 43,\n",
      "        11,  1, 53, 59, 56,  0, 57, 59, 44, 44, 43, 56, 39, 52, 41, 43,  1, 47,\n",
      "        57,  1, 39,  1, 45, 39, 47, 52,  1, 58, 53,  1, 58, 46, 43, 51,  1, 24,\n",
      "        43, 58,  1, 59, 57,  1, 56, 43, 60, 43, 52, 45, 43,  1, 58, 46, 47, 57,\n",
      "         1, 61, 47, 58, 46,  0, 53, 59, 56,  1, 54, 47, 49, 43, 57,  6,  1, 43,\n",
      "        56, 43,  1, 61, 43,  1, 40, 43, 41, 53, 51, 43,  1, 56, 39, 49, 43, 57,\n",
      "        10,  1, 44, 53, 56,  1, 58, 46, 43,  1, 45, 53, 42, 57,  1, 49, 52, 53,\n",
      "        61,  1, 21,  0, 57, 54, 43, 39, 49,  1, 58, 46, 47, 57,  1, 47, 52,  1,\n",
      "        46, 59, 52, 45, 43, 56,  1, 44, 53, 56,  1, 40, 56, 43, 39, 42,  6,  1,\n",
      "        52, 53, 58,  1, 47, 52,  1, 58, 46, 47, 56, 57, 58,  1, 44, 53, 56,  1,\n",
      "        56, 43, 60, 43, 52, 45, 43,  8,  0,  0])\n"
     ]
    }
   ],
   "source": [
    "# tokenizing enitire dataset and converting them into tensors\n",
    "data = torch.tensor(encode(data), dtype=torch.long)\n",
    "print(data.shape, data.dtype)\n",
    "print(data[:1000]) # 1st 1000 char tensors"
   ]
  },
  {
   "cell_type": "code",
   "execution_count": 7,
   "metadata": {},
   "outputs": [],
   "source": [
    "# train, val split\n",
    "thresh = int(0.9 * len(data))\n",
    "train_data = data[:thresh] # 90%\n",
    "val_data = data[thresh:] # 10%"
   ]
  },
  {
   "cell_type": "code",
   "execution_count": 8,
   "metadata": {},
   "outputs": [
    {
     "name": "stdout",
     "output_type": "stream",
     "text": [
      "Inputs shape: torch.Size([4, 8])\n",
      "Inputs: tensor([[ 0,  5, 32, 47, 57,  1, 52, 53],\n",
      "        [27, 56,  1, 40, 43, 52, 42,  1],\n",
      "        [43,  1, 24, 53, 56, 42, 10,  0],\n",
      "        [46, 43, 56,  8,  0,  0, 14, 53]])\n",
      "\n",
      "Target shape: torch.Size([4, 8])\n",
      "Target: tensor([[ 5, 32, 47, 57,  1, 52, 53, 58],\n",
      "        [56,  1, 40, 43, 52, 42,  1, 53],\n",
      "        [ 1, 24, 53, 56, 42, 10,  0, 18],\n",
      "        [43, 56,  8,  0,  0, 14, 53, 58]])\n",
      "\n",
      "--------------------------------------------------\n",
      "\n",
      "Input: [0], Target: 5\n",
      "Input: [0, 5], Target: 32\n",
      "Input: [0, 5, 32], Target: 47\n",
      "Input: [0, 5, 32, 47], Target: 57\n",
      "Input: [0, 5, 32, 47, 57], Target: 1\n",
      "Input: [0, 5, 32, 47, 57, 1], Target: 52\n",
      "Input: [0, 5, 32, 47, 57, 1, 52], Target: 53\n",
      "Input: [0, 5, 32, 47, 57, 1, 52, 53], Target: 58\n",
      "Input: [27], Target: 56\n",
      "Input: [27, 56], Target: 1\n",
      "Input: [27, 56, 1], Target: 40\n",
      "Input: [27, 56, 1, 40], Target: 43\n",
      "Input: [27, 56, 1, 40, 43], Target: 52\n",
      "Input: [27, 56, 1, 40, 43, 52], Target: 42\n",
      "Input: [27, 56, 1, 40, 43, 52, 42], Target: 1\n",
      "Input: [27, 56, 1, 40, 43, 52, 42, 1], Target: 53\n",
      "Input: [43], Target: 1\n",
      "Input: [43, 1], Target: 24\n",
      "Input: [43, 1, 24], Target: 53\n",
      "Input: [43, 1, 24, 53], Target: 56\n",
      "Input: [43, 1, 24, 53, 56], Target: 42\n",
      "Input: [43, 1, 24, 53, 56, 42], Target: 10\n",
      "Input: [43, 1, 24, 53, 56, 42, 10], Target: 0\n",
      "Input: [43, 1, 24, 53, 56, 42, 10, 0], Target: 18\n",
      "Input: [46], Target: 43\n",
      "Input: [46, 43], Target: 56\n",
      "Input: [46, 43, 56], Target: 8\n",
      "Input: [46, 43, 56, 8], Target: 0\n",
      "Input: [46, 43, 56, 8, 0], Target: 0\n",
      "Input: [46, 43, 56, 8, 0, 0], Target: 14\n",
      "Input: [46, 43, 56, 8, 0, 0, 14], Target: 53\n",
      "Input: [46, 43, 56, 8, 0, 0, 14, 53], Target: 58\n"
     ]
    }
   ],
   "source": [
    "# dataloader: outs batches of x and y pairs\n",
    "batch_size = 4 # n sequence to process parallaly\n",
    "block_size = 8 # context length\n",
    "\n",
    "def get_batches(split):\n",
    "    \"\"\"\n",
    "    generate batched in and out pairs\n",
    "    \"\"\"\n",
    "    data = train_data if split == \"train\" else val_data\n",
    "    idx = torch.randint(len(data) - block_size, (batch_size, ))\n",
    "    x = torch.stack([data[i:i + block_size] for i in idx])\n",
    "    y = torch.stack([data[i + 1: i + block_size + 1] for i in idx])\n",
    "    return x, y\n",
    "\n",
    "mini_x, mini_y = get_batches(\"train\") # batch\n",
    "print(f\"Inputs shape: {mini_x.shape}\\nInputs: {mini_x}\\n\")\n",
    "print(f\"Target shape: {mini_y.shape}\\nTarget: {mini_y}\\n\")\n",
    "print(\"--------------------------------------------------\\n\")\n",
    "\n",
    "# insights into the batched data\n",
    "for b in range(batch_size):\n",
    "    for t in range(block_size):\n",
    "        context = mini_x[b, :t+1]\n",
    "        target = mini_y[b, t]\n",
    "        print(f\"Input: {context.tolist()}, Target: {target}\")"
   ]
  },
  {
   "cell_type": "code",
   "execution_count": 18,
   "metadata": {},
   "outputs": [
    {
     "name": "stdout",
     "output_type": "stream",
     "text": [
      "Loss: 4.807022571563721\n"
     ]
    }
   ],
   "source": [
    "# bigram class\n",
    "class BigramLanguageModel(nn.Module):\n",
    "\n",
    "    def __init__(self, vocab_size):\n",
    "        super().__init__()\n",
    "        # each token directly reads off the logits for the next token from a lookup table\n",
    "        self.token_embedding_table = nn.Embedding(vocab_size, vocab_size)\n",
    "\n",
    "    def forward(self, idx, targets=None):\n",
    "        # idx and targets are both (B,T) tensor of integers batch, time/context\n",
    "        logits = self.token_embedding_table(idx) # (B,T,C)\n",
    "\n",
    "        if targets is None:\n",
    "            loss = None\n",
    "        else:\n",
    "            B, T, C = logits.shape\n",
    "            logits = logits.view(B*T, C)\n",
    "            targets = targets.view(B*T)\n",
    "            loss = F.cross_entropy(logits, targets)\n",
    "\n",
    "        return logits, loss\n",
    "\n",
    "    def generate(self, idx, max_new_tokens):\n",
    "        # idx is (B, T) array of indices in the current context\n",
    "        for _ in range(max_new_tokens):\n",
    "            # get the predictions\n",
    "            logits, loss = self(idx)\n",
    "            # focus only on the last time step\n",
    "            logits = logits[:, -1, :] # becomes (B, C)\n",
    "            # apply softmax to get probabilities\n",
    "            probs = F.softmax(logits, dim=-1) # (B, C)\n",
    "            # sample from the distribution\n",
    "            idx_next = torch.multinomial(probs, num_samples=1) # (B, 1)\n",
    "            # append sampled index to the running sequence\n",
    "            idx = torch.cat((idx, idx_next), dim=1) # (B, T+1)\n",
    "        return idx\n",
    "    \n",
    "    def sample(self, idx, max_new_tokens):\n",
    "        return decode(self.generate(idx, max_new_tokens)[0].tolist())\n",
    "    \n",
    "bigram_model = BigramLanguageModel(vocab_size)\n",
    "logits, loss = bigram_model(mini_x, mini_y)\n",
    "print(f\"Loss: {loss}\")"
   ]
  },
  {
   "cell_type": "code",
   "execution_count": 45,
   "metadata": {},
   "outputs": [
    {
     "name": "stdout",
     "output_type": "stream",
     "text": [
      "\n",
      "QSxVTLCvqSNeN?'j\n",
      "keCNY-T\n",
      "dteYGAeW&f$Jx;z3UBSeAHsL&\n",
      "KuIZkIp$,cLLfHVT,'ZbW.TI:ukL.HZpSbwPSCyifaEdg!.HH\n"
     ]
    }
   ],
   "source": [
    "# prediction before training\n",
    "print(bigram_model.sample(idx = torch.zeros((1, 1), dtype=torch.long), max_new_tokens=100))"
   ]
  },
  {
   "cell_type": "code",
   "execution_count": null,
   "metadata": {},
   "outputs": [],
   "source": [
    "# # predictions before training\n",
    "# print(decode(bigram_model.generate(idx = torch.zeros((1, 1), dtype=torch.long), max_new_tokens=100)[0].tolist()))"
   ]
  },
  {
   "cell_type": "code",
   "execution_count": 46,
   "metadata": {},
   "outputs": [],
   "source": [
    "# optimizer\n",
    "optimizer = torch.optim.AdamW(bigram_model.parameters(), lr=1e-3)"
   ]
  },
  {
   "cell_type": "code",
   "execution_count": 47,
   "metadata": {},
   "outputs": [
    {
     "name": "stdout",
     "output_type": "stream",
     "text": [
      "Epoch: 1000, Loss: 3.8054986000061035\n",
      "Epoch: 2000, Loss: 3.324122667312622\n",
      "Epoch: 3000, Loss: 2.8780388832092285\n",
      "Epoch: 4000, Loss: 2.6557414531707764\n",
      "Epoch: 5000, Loss: 2.6466286182403564\n",
      "Epoch: 6000, Loss: 2.3895211219787598\n",
      "Epoch: 7000, Loss: 2.5135180950164795\n",
      "Epoch: 8000, Loss: 2.5664174556732178\n",
      "Epoch: 9000, Loss: 2.5909507274627686\n",
      "Epoch: 10000, Loss: 2.3946382999420166\n"
     ]
    }
   ],
   "source": [
    "# Training bigram model\n",
    "batch_size = 32\n",
    "epochs = 10000\n",
    "\n",
    "for epoch in range(epochs):\n",
    "    # getting batches\n",
    "    xb, yb = get_batches(\"train\")\n",
    "    \n",
    "    # loss\n",
    "    logits, loss = bigram_model(xb, yb)\n",
    "    \n",
    "    # setting grad to zero\n",
    "    optimizer.zero_grad(set_to_none=True)\n",
    "    \n",
    "    # backprop\n",
    "    loss.backward()\n",
    "    \n",
    "    # update params\n",
    "    optimizer.step()\n",
    "    if (epoch+1) % 1000 == 0:\n",
    "        print(f\"Epoch: {epoch+1}, Loss: {loss.item()}\")"
   ]
  },
  {
   "cell_type": "code",
   "execution_count": 51,
   "metadata": {},
   "outputs": [
    {
     "name": "stdout",
     "output_type": "stream",
     "text": [
      "\n",
      "Angty, host wiccerth ir wndeanstJou bur dy sons KI in, l all alertstud tt\n",
      "IN:\n",
      "Whaibeeasor wado s;\n",
      "FO fthenckithigherevey thooures;\n",
      "veionnd hece hel agh e o, ldurero gle t h f secousengharsar.\n",
      "\n",
      "\n",
      "O:\n",
      "LOUt t infercut phe be ness;\n",
      "TXger.\n",
      "Wayofay p,\n",
      "Hal torisou hmand ms athondlouelee w'TI t s.\n",
      "\n",
      "WA:\n",
      "HAn ird sea pravear ur,\n",
      "Aco rinden.\n",
      "Ound leOF:\n",
      "Whe, it\n",
      "Thais id!\n",
      "s st bouce sisilmaknorrsad ome Gondss:\n",
      "MEve I knomelx homurete ISEThe;\n",
      "Mans, yowe ayoure chinof hearerathean, slavin f ie tof is Thre hey rin\n"
     ]
    }
   ],
   "source": [
    "# prediction after training\n",
    "print(bigram_model.sample(idx = torch.zeros((1, 1), dtype=torch.long), max_new_tokens=500))"
   ]
  },
  {
   "cell_type": "code",
   "execution_count": null,
   "metadata": {},
   "outputs": [],
   "source": [
    "# # predictions after training\n",
    "# print(decode(bigram_model.generate(idx = torch.zeros((1, 1), dtype=torch.long), max_new_tokens=500)[0].tolist()))"
   ]
  },
  {
   "cell_type": "code",
   "execution_count": 57,
   "metadata": {},
   "outputs": [
    {
     "name": "stdout",
     "output_type": "stream",
     "text": [
      "x Shape: torch.Size([4, 8, 2])\n"
     ]
    },
    {
     "data": {
      "text/plain": [
       "(tensor([[ 0.5278,  0.8184],\n",
       "         [-0.0731,  0.0911],\n",
       "         [-0.2688,  0.6280],\n",
       "         [ 0.5763, -0.3307],\n",
       "         [ 1.2834,  0.6111],\n",
       "         [ 0.3370, -1.1037],\n",
       "         [-0.4783, -0.1251],\n",
       "         [-0.5722, -2.0273]]),\n",
       " tensor([[ 0.5278,  0.8184],\n",
       "         [ 0.2274,  0.4547],\n",
       "         [ 0.0620,  0.5125],\n",
       "         [ 0.1906,  0.3017],\n",
       "         [ 0.4091,  0.3636],\n",
       "         [ 0.3971,  0.1190],\n",
       "         [ 0.2721,  0.0842],\n",
       "         [ 0.1665, -0.1798]]))"
      ]
     },
     "execution_count": 57,
     "metadata": {},
     "output_type": "execute_result"
    }
   ],
   "source": [
    "# intuition for masked self-attention\n",
    "B, T, C = 4, 8, 2 # Batch, Time(context length), Channels(embeddings or info at B,T)\n",
    "x = torch.randn(B, T, C)\n",
    "print(f\"x Shape: {x.shape}\")\n",
    "\n",
    "# we want ith token to have attention to all tokens from i-T to i\n",
    "# hence x[b, t] = mean of i<t x[b, i]\n",
    "xbow = torch.zeros((B, T, C)) # averaging\n",
    "for b in range(B):\n",
    "    for t in range(T):\n",
    "        xprev = x[b, :t+1] # (t, C)\n",
    "        xbow[b, t] = torch.mean(xprev, 0)\n",
    "x[0], xbow[0]"
   ]
  },
  {
   "cell_type": "code",
   "execution_count": 65,
   "metadata": {},
   "outputs": [
    {
     "name": "stdout",
     "output_type": "stream",
     "text": [
      "Weights for self-attention: \n",
      " tensor([[1.0000, 0.0000, 0.0000, 0.0000, 0.0000, 0.0000, 0.0000, 0.0000],\n",
      "        [0.5000, 0.5000, 0.0000, 0.0000, 0.0000, 0.0000, 0.0000, 0.0000],\n",
      "        [0.3333, 0.3333, 0.3333, 0.0000, 0.0000, 0.0000, 0.0000, 0.0000],\n",
      "        [0.2500, 0.2500, 0.2500, 0.2500, 0.0000, 0.0000, 0.0000, 0.0000],\n",
      "        [0.2000, 0.2000, 0.2000, 0.2000, 0.2000, 0.0000, 0.0000, 0.0000],\n",
      "        [0.1667, 0.1667, 0.1667, 0.1667, 0.1667, 0.1667, 0.0000, 0.0000],\n",
      "        [0.1429, 0.1429, 0.1429, 0.1429, 0.1429, 0.1429, 0.1429, 0.0000],\n",
      "        [0.1250, 0.1250, 0.1250, 0.1250, 0.1250, 0.1250, 0.1250, 0.1250]])\n"
     ]
    },
    {
     "data": {
      "text/plain": [
       "True"
      ]
     },
     "execution_count": 65,
     "metadata": {},
     "output_type": "execute_result"
    }
   ],
   "source": [
    "# masked self-attention using matrix multiplication\n",
    "weights = torch.tril(torch.ones(T, T)) # lower triangular matrix\n",
    "weights = weights / weights.sum(1, keepdim=True) # row normalization\n",
    "print(\"Weights for self-attention: \\n\", weights)\n",
    "xbow2 =  weights @ x # (B, T, T) @ (B, T, C) = (B, T, C), here the weights are averaging the context so that the ith token has attention to all tokens from i-T to i\n",
    "torch.allclose(xbow, xbow2) # tells if the two tensors are equal"
   ]
  },
  {
   "cell_type": "code",
   "execution_count": 66,
   "metadata": {},
   "outputs": [
    {
     "name": "stdout",
     "output_type": "stream",
     "text": [
      "Weights before softmax: \n",
      "tensor([[0., -inf, -inf, -inf, -inf, -inf, -inf, -inf],\n",
      "        [0., 0., -inf, -inf, -inf, -inf, -inf, -inf],\n",
      "        [0., 0., 0., -inf, -inf, -inf, -inf, -inf],\n",
      "        [0., 0., 0., 0., -inf, -inf, -inf, -inf],\n",
      "        [0., 0., 0., 0., 0., -inf, -inf, -inf],\n",
      "        [0., 0., 0., 0., 0., 0., -inf, -inf],\n",
      "        [0., 0., 0., 0., 0., 0., 0., -inf],\n",
      "        [0., 0., 0., 0., 0., 0., 0., 0.]])\n",
      "\n",
      "Weights after softmax: \n",
      "tensor([[1.0000, 0.0000, 0.0000, 0.0000, 0.0000, 0.0000, 0.0000, 0.0000],\n",
      "        [0.5000, 0.5000, 0.0000, 0.0000, 0.0000, 0.0000, 0.0000, 0.0000],\n",
      "        [0.3333, 0.3333, 0.3333, 0.0000, 0.0000, 0.0000, 0.0000, 0.0000],\n",
      "        [0.2500, 0.2500, 0.2500, 0.2500, 0.0000, 0.0000, 0.0000, 0.0000],\n",
      "        [0.2000, 0.2000, 0.2000, 0.2000, 0.2000, 0.0000, 0.0000, 0.0000],\n",
      "        [0.1667, 0.1667, 0.1667, 0.1667, 0.1667, 0.1667, 0.0000, 0.0000],\n",
      "        [0.1429, 0.1429, 0.1429, 0.1429, 0.1429, 0.1429, 0.1429, 0.0000],\n",
      "        [0.1250, 0.1250, 0.1250, 0.1250, 0.1250, 0.1250, 0.1250, 0.1250]])\n"
     ]
    }
   ],
   "source": [
    "# masked self-attention using softmax\n",
    "tril = torch.tril(torch.ones(T, T)) # lower triangular matrix\n",
    "weights = torch.zeros((T, T))\n",
    "weights = weights.masked_fill(tril == 0, float('-inf')) # masking the upper triangular part\n",
    "print(f\"Weights before softmax: \\n{weights}\\n\")\n",
    "weights = F.softmax(weights, dim=1) # row normalization\n",
    "print(f\"Weights after softmax: \\n{weights}\")"
   ]
  },
  {
   "cell_type": "code",
   "execution_count": 71,
   "metadata": {},
   "outputs": [
    {
     "name": "stdout",
     "output_type": "stream",
     "text": [
      "Output shape: torch.Size([4, 8, 16])\n",
      "Weight: \n",
      "tensor([[1.0000, 0.0000, 0.0000, 0.0000, 0.0000, 0.0000, 0.0000, 0.0000],\n",
      "        [0.9597, 0.0403, 0.0000, 0.0000, 0.0000, 0.0000, 0.0000, 0.0000],\n",
      "        [0.2115, 0.3150, 0.4735, 0.0000, 0.0000, 0.0000, 0.0000, 0.0000],\n",
      "        [0.7466, 0.0461, 0.1186, 0.0887, 0.0000, 0.0000, 0.0000, 0.0000],\n",
      "        [0.7403, 0.0438, 0.1595, 0.0345, 0.0220, 0.0000, 0.0000, 0.0000],\n",
      "        [0.1442, 0.0878, 0.1484, 0.2169, 0.0440, 0.3587, 0.0000, 0.0000],\n",
      "        [0.1155, 0.0253, 0.0772, 0.0600, 0.1738, 0.0938, 0.4544, 0.0000],\n",
      "        [0.2619, 0.2991, 0.1837, 0.0366, 0.1346, 0.0585, 0.0118, 0.0138]],\n",
      "       grad_fn=<SelectBackward0>)\n"
     ]
    }
   ],
   "source": [
    "# masked self-attention (CRUX)\n",
    "B,T,C = 4,8,32 # batch, time, channels\n",
    "x = torch.randn(B,T,C)\n",
    "\n",
    "# single headed masked self-attention\n",
    "head_size = 16\n",
    "key = nn.Linear(C, head_size, bias=False)\n",
    "query = nn.Linear(C, head_size, bias=False)\n",
    "value = nn.Linear(C, head_size, bias=False)\n",
    "k = key(x)   # (B, T, 16)\n",
    "q = query(x) # (B, T, 16)\n",
    "weights =  q @ k.transpose(-2, -1) # (B, T, 16) @ (B, 16, T) ---> (B, T, T)\n",
    "\n",
    "tril = torch.tril(torch.ones(T, T))\n",
    "weights = weights.masked_fill(tril == 0, float('-inf'))\n",
    "weights = F.softmax(weights, dim=-1)\n",
    "\n",
    "v = value(x)\n",
    "out = weights @ v\n",
    "\n",
    "print(f\"Output shape: {out.shape}\")\n",
    "print(f\"Weight: \\n{weights[0]}\")"
   ]
  },
  {
   "cell_type": "code",
   "execution_count": 73,
   "metadata": {},
   "outputs": [
    {
     "name": "stdout",
     "output_type": "stream",
     "text": [
      "Output shape: torch.Size([4, 8, 16])\n",
      "Weight: \n",
      "tensor([[1.0000, 0.0000, 0.0000, 0.0000, 0.0000, 0.0000, 0.0000, 0.0000],\n",
      "        [0.3894, 0.6106, 0.0000, 0.0000, 0.0000, 0.0000, 0.0000, 0.0000],\n",
      "        [0.4886, 0.3219, 0.1895, 0.0000, 0.0000, 0.0000, 0.0000, 0.0000],\n",
      "        [0.2701, 0.2011, 0.2403, 0.2886, 0.0000, 0.0000, 0.0000, 0.0000],\n",
      "        [0.1699, 0.1995, 0.1886, 0.1928, 0.2492, 0.0000, 0.0000, 0.0000],\n",
      "        [0.1926, 0.1632, 0.1158, 0.1620, 0.2331, 0.1334, 0.0000, 0.0000],\n",
      "        [0.1786, 0.1895, 0.1435, 0.1346, 0.1440, 0.1117, 0.0979, 0.0000],\n",
      "        [0.1403, 0.1531, 0.1354, 0.0887, 0.1128, 0.1006, 0.1326, 0.1366]],\n",
      "       grad_fn=<SelectBackward0>)\n"
     ]
    }
   ],
   "source": [
    "# scaled masked self-attention\n",
    "head_size = 16\n",
    "key = nn.Linear(C, head_size, bias=False)\n",
    "query = nn.Linear(C, head_size, bias=False)\n",
    "value = nn.Linear(C, head_size, bias=False)\n",
    "k = key(x)   # (B, T, 16)\n",
    "q = query(x) # (B, T, 16)\n",
    "weights =  q @ k.transpose(-2, -1) # (B, T, 16) @ (B, 16, T) ---> (B, T, T)\n",
    "\n",
    "tril = torch.tril(torch.ones(T, T))\n",
    "weights = weights.masked_fill(tril == 0, float('-inf'))\n",
    "weights = F.softmax(weights / (head_size ** 0.5), dim=-1) # scaling helps the softmax to be more stable and less sensitive to large values\n",
    "\n",
    "v = value(x)\n",
    "out = weights @ v\n",
    "\n",
    "print(f\"Output shape: {out.shape}\")\n",
    "print(f\"Weight: \\n{weights[0]}\")"
   ]
  },
  {
   "cell_type": "markdown",
   "metadata": {},
   "source": [
    "## GPT"
   ]
  },
  {
   "cell_type": "code",
   "execution_count": 90,
   "metadata": {},
   "outputs": [],
   "source": [
    "# hyperparams\n",
    "batch_size = 32\n",
    "block_size = 8 \n",
    "max_iters = 5000\n",
    "eval_interval = 500\n",
    "learning_rate = 1e-3\n",
    "device = 'cuda' if torch.cuda.is_available() else 'cpu'\n",
    "eval_iters = 200\n",
    "num_embed = 32\n",
    "dropout = 0.1"
   ]
  },
  {
   "cell_type": "code",
   "execution_count": 132,
   "metadata": {},
   "outputs": [],
   "source": [
    "class Head(nn.Module):\n",
    "\n",
    "    def __init__(self, head_size):\n",
    "        super().__init__()\n",
    "        self.key = nn.Linear(num_embed, head_size, bias=False)\n",
    "        self.query = nn.Linear(num_embed, head_size, bias=False)\n",
    "        self.value = nn.Linear(num_embed, head_size, bias=False)\n",
    "        self.register_buffer('tril', torch.tril(torch.ones(block_size, block_size)))\n",
    "        self.dropout = nn.Dropout(dropout)\n",
    "\n",
    "    def forward(self, x):\n",
    "        # input of size (batch, time-step, channels)\n",
    "        # output of size (batch, time-step, head size)\n",
    "        B,T,C = x.shape\n",
    "        k = self.key(x)   # (B,T,hs)\n",
    "        q = self.query(x) # (B,T,hs)\n",
    "        # compute attention scores (\"affinities\")\n",
    "        weights = q @ k.transpose(-2,-1) * k.shape[-1]**-0.5 # (B, T, hs) @ (B, hs, T) -> (B, T, T)\n",
    "        weights = weights.masked_fill(self.tril[:T, :T] == 0, float('-inf')) # (B, T, T)\n",
    "        weights = F.softmax(weights, dim=-1) # (B, T, T)\n",
    "        weights = self.dropout(weights)\n",
    "        # perform the weighted aggregation of the values\n",
    "        v = self.value(x) # (B,T,hs)\n",
    "        out = weights @ v # (B, T, T) @ (B, T, hs) -> (B, T, hs)\n",
    "        return out"
   ]
  },
  {
   "cell_type": "code",
   "execution_count": 133,
   "metadata": {},
   "outputs": [],
   "source": [
    "class MultiHeadAttention(nn.Module):\n",
    "    \n",
    "    def __init__(self, num_heads, head_size):\n",
    "        super().__init__()\n",
    "        self.heads = nn.ModuleList([Head(head_size) for _ in range(num_heads)])\n",
    "        self.projection = nn.Linear(num_heads * head_size, num_embed)\n",
    "        \n",
    "    def forward(self, x):\n",
    "        out = torch.cat([h(x) for h in self.heads], dim=-1)\n",
    "        out = self.projection(out)\n",
    "        return out"
   ]
  },
  {
   "cell_type": "code",
   "execution_count": 134,
   "metadata": {},
   "outputs": [],
   "source": [
    "class FeedFoward(nn.Module):\n",
    "\n",
    "    def __init__(self, n_embd):\n",
    "        super().__init__()\n",
    "        self.net = nn.Sequential(\n",
    "            nn.Linear(n_embd, 4 * n_embd),\n",
    "            nn.ReLU(),\n",
    "            nn.Linear(4 * n_embd, n_embd),\n",
    "            nn.Dropout(dropout),\n",
    "        )\n",
    "\n",
    "    def forward(self, x):\n",
    "        return self.net(x)"
   ]
  },
  {
   "cell_type": "code",
   "execution_count": 135,
   "metadata": {},
   "outputs": [],
   "source": [
    "class Block(nn.Module):\n",
    "\n",
    "    def __init__(self, num_embd, num_head):\n",
    "        super().__init__()\n",
    "        head_size = num_embd // num_head\n",
    "        self.self_attention = MultiHeadAttention(num_head, head_size)\n",
    "        self.ffwd = FeedFoward(num_embd)\n",
    "        self.ln1 = nn.LayerNorm(num_embd)\n",
    "        self.ln2 = nn.LayerNorm(num_embd)\n",
    "\n",
    "    def forward(self, x):\n",
    "        x = x + self.self_attention(self.ln1(x))\n",
    "        x = x + self.ffwd(self.ln2(x))\n",
    "        return x"
   ]
  },
  {
   "cell_type": "code",
   "execution_count": 136,
   "metadata": {},
   "outputs": [],
   "source": [
    "class GPTLanguageModel(nn.Module):\n",
    "\n",
    "    def __init__(self):\n",
    "        super().__init__()\n",
    "        # each token directly reads off the logits for the next token from a lookup table\n",
    "        self.token_embedding_table = nn.Embedding(vocab_size, num_embed)\n",
    "        self.positional_embedding_table = nn.Embedding(block_size, num_embed) \n",
    "        self.blocks = nn.Sequential(\n",
    "            Block(num_embed, num_head=4),\n",
    "            Block(num_embed, num_head=4),\n",
    "            Block(num_embed, num_head=4),\n",
    "        )\n",
    "        self.linear = nn.Linear(num_embed, vocab_size)\n",
    "\n",
    "    def forward(self, idx, targets=None):\n",
    "        B, T = idx.shape\n",
    "        \n",
    "        # idx and targets are both (B,T) tensor of integers\n",
    "        token_embeddings = self.token_embedding_table(idx) # (B,T,C)\n",
    "        position_embeddings = self.positional_embedding_table(torch.arange(T, device=device)) # (T,C)\n",
    "        x = token_embeddings + position_embeddings # (B,T,C)\n",
    "        x = self.blocks(x)\n",
    "        logits = self.linear(x) # (B,T, vocab_size)\n",
    "\n",
    "        if targets is None:\n",
    "            loss = None\n",
    "        else:\n",
    "            B, T, C = logits.shape\n",
    "            logits = logits.view(B*T, C)\n",
    "            targets = targets.view(B*T)\n",
    "            loss = F.cross_entropy(logits, targets)\n",
    "\n",
    "        return logits, loss\n",
    "\n",
    "    def generate(self, idx, max_new_tokens):\n",
    "        # idx is (B, T) array of indices in the current context\n",
    "        for _ in range(max_new_tokens):\n",
    "            # take only the last block_size tokens\n",
    "            idx_context = idx[:, -block_size:]\n",
    "            # get the predictions\n",
    "            logits, loss = self(idx_context)\n",
    "            # focus only on the last time step\n",
    "            logits = logits[:, -1, :] # becomes (B, C)\n",
    "            # apply softmax to get probabilities\n",
    "            probs = F.softmax(logits, dim=-1) # (B, C)\n",
    "            # sample from the distribution\n",
    "            idx_next = torch.multinomial(probs, num_samples=1) # (B, 1)\n",
    "            # append sampled index to the running sequence\n",
    "            idx = torch.cat((idx, idx_next), dim=1) # (B, T+1)\n",
    "        return idx"
   ]
  },
  {
   "cell_type": "code",
   "execution_count": 137,
   "metadata": {},
   "outputs": [
    {
     "name": "stdout",
     "output_type": "stream",
     "text": [
      "0.042305 M parameters\n"
     ]
    }
   ],
   "source": [
    "# model, optimizer\n",
    "model = GPTLanguageModel().to(device)\n",
    "optimizer = torch.optim.AdamW(model.parameters(), lr=learning_rate)\n",
    "\n",
    "# print number of parameters\n",
    "print(sum(p.numel() for p in model.parameters())/1e6, 'M parameters')"
   ]
  },
  {
   "cell_type": "code",
   "execution_count": 138,
   "metadata": {},
   "outputs": [],
   "source": [
    "@torch.no_grad()\n",
    "def estimate_loss():\n",
    "    out = {}\n",
    "    model.eval()\n",
    "    for split in ['train', 'val']:\n",
    "        losses = torch.zeros(eval_iters)\n",
    "        for k in range(eval_iters):\n",
    "            X, Y = get_batches(split)\n",
    "            logits, loss = model(X, Y)\n",
    "            losses[k] = loss.item()\n",
    "        out[split] = losses.mean()\n",
    "    model.train()\n",
    "    return out"
   ]
  },
  {
   "cell_type": "code",
   "execution_count": 139,
   "metadata": {},
   "outputs": [
    {
     "name": "stderr",
     "output_type": "stream",
     "text": [
      "  0%|          | 3/5000 [00:05<1:57:39,  1.41s/it]"
     ]
    },
    {
     "name": "stdout",
     "output_type": "stream",
     "text": [
      "step 0: train loss 4.5467, val loss 4.5292\n"
     ]
    },
    {
     "name": "stderr",
     "output_type": "stream",
     "text": [
      " 10%|█         | 504/5000 [00:31<29:06,  2.57it/s]"
     ]
    },
    {
     "name": "stdout",
     "output_type": "stream",
     "text": [
      "step 500: train loss 2.4076, val loss 2.4300\n"
     ]
    },
    {
     "name": "stderr",
     "output_type": "stream",
     "text": [
      " 20%|██        | 1002/5000 [00:57<35:47,  1.86it/s]"
     ]
    },
    {
     "name": "stdout",
     "output_type": "stream",
     "text": [
      "step 1000: train loss 2.2827, val loss 2.3083\n"
     ]
    },
    {
     "name": "stderr",
     "output_type": "stream",
     "text": [
      " 30%|███       | 1500/5000 [01:18<02:26, 23.90it/s]"
     ]
    },
    {
     "name": "stdout",
     "output_type": "stream",
     "text": [
      "step 1500: train loss 2.2242, val loss 2.2375\n"
     ]
    },
    {
     "name": "stderr",
     "output_type": "stream",
     "text": [
      " 40%|████      | 2004/5000 [01:52<19:45,  2.53it/s]"
     ]
    },
    {
     "name": "stdout",
     "output_type": "stream",
     "text": [
      "step 2000: train loss 2.1734, val loss 2.2042\n"
     ]
    },
    {
     "name": "stderr",
     "output_type": "stream",
     "text": [
      " 50%|█████     | 2502/5000 [02:17<21:39,  1.92it/s]"
     ]
    },
    {
     "name": "stdout",
     "output_type": "stream",
     "text": [
      "step 2500: train loss 2.1438, val loss 2.1630\n"
     ]
    },
    {
     "name": "stderr",
     "output_type": "stream",
     "text": [
      " 60%|██████    | 3003/5000 [02:42<16:19,  2.04it/s]"
     ]
    },
    {
     "name": "stdout",
     "output_type": "stream",
     "text": [
      "step 3000: train loss 2.0951, val loss 2.1503\n"
     ]
    },
    {
     "name": "stderr",
     "output_type": "stream",
     "text": [
      " 70%|███████   | 3503/5000 [03:06<12:15,  2.04it/s]"
     ]
    },
    {
     "name": "stdout",
     "output_type": "stream",
     "text": [
      "step 3500: train loss 2.0824, val loss 2.1408\n"
     ]
    },
    {
     "name": "stderr",
     "output_type": "stream",
     "text": [
      " 80%|████████  | 4003/5000 [03:30<08:10,  2.03it/s]"
     ]
    },
    {
     "name": "stdout",
     "output_type": "stream",
     "text": [
      "step 4000: train loss 2.0463, val loss 2.1017\n"
     ]
    },
    {
     "name": "stderr",
     "output_type": "stream",
     "text": [
      " 90%|█████████ | 4504/5000 [03:55<03:05,  2.67it/s]"
     ]
    },
    {
     "name": "stdout",
     "output_type": "stream",
     "text": [
      "step 4500: train loss 2.0423, val loss 2.1105\n"
     ]
    },
    {
     "name": "stderr",
     "output_type": "stream",
     "text": [
      "100%|██████████| 5000/5000 [04:20<00:00, 19.21it/s]"
     ]
    },
    {
     "name": "stdout",
     "output_type": "stream",
     "text": [
      "step 4999: train loss 2.0214, val loss 2.0751\n"
     ]
    },
    {
     "name": "stderr",
     "output_type": "stream",
     "text": [
      "\n"
     ]
    }
   ],
   "source": [
    "from tqdm import tqdm\n",
    "\n",
    "train_losses = []\n",
    "val_losses = []\n",
    "for iter in tqdm(range(max_iters)):\n",
    "\n",
    "    # every once in a while evaluate the loss on train and val sets\n",
    "    if iter % eval_interval == 0 or iter == max_iters - 1:\n",
    "        losses = estimate_loss()\n",
    "        print(f\"step {iter}: train loss {losses['train']:.4f}, val loss {losses['val']:.4f}\")\n",
    "        # appending the losses\n",
    "        train_losses.append(losses['train'])\n",
    "        val_losses.append(losses['val'])\n",
    "\n",
    "    # sample a batch of data\n",
    "    xb, yb = get_batches('train')\n",
    "\n",
    "    # evaluate the loss\n",
    "    logits, loss = model(xb, yb)\n",
    "    optimizer.zero_grad(set_to_none=True)\n",
    "    loss.backward()\n",
    "    optimizer.step()"
   ]
  },
  {
   "cell_type": "code",
   "execution_count": 140,
   "metadata": {},
   "outputs": [
    {
     "data": {
      "image/png": "[encoded data removed]",
      "text/plain": [
       "<Figure size 1000x1000 with 2 Axes>"
      ]
     },
     "metadata": {},
     "output_type": "display_data"
    }
   ],
   "source": [
    "# plotting the attention weights\n",
    "import matplotlib.pyplot as plt\n",
    "import seaborn as sns\n",
    "sns.set_theme()\n",
    "\n",
    "# get the next batch\n",
    "xb, yb = get_batches(\"val\")\n",
    "xb, yb = xb.to(device), yb.to(device)\n",
    "# forward the model\n",
    "B, T = xb.shape\n",
    "token_embeddings = model.token_embedding_table(xb) # (B,T,C)\n",
    "position_embeddings = model.positional_embedding_table(torch.arange(T, device=device)) # (T,C)\n",
    "x = token_embeddings + position_embeddings # (B,T,C)\n",
    "attention = model.blocks[0].self_attention\n",
    "weights = attention(x) # (B,T,C)\n",
    "weights = weights[0].cpu().detach().numpy() # (T,T)\n",
    "plt.figure(figsize=(10,10))\n",
    "sns.heatmap(weights, cmap='viridis')\n",
    "plt.title('Attention weights')\n",
    "plt.show()"
   ]
  },
  {
   "cell_type": "code",
   "execution_count": 141,
   "metadata": {},
   "outputs": [
    {
     "data": {
      "image/png": "[encoded data removed]",
      "text/plain": [
       "<Figure size 1000x500 with 1 Axes>"
      ]
     },
     "metadata": {},
     "output_type": "display_data"
    }
   ],
   "source": [
    "# plotting the losses\n",
    "plt.figure(figsize=(10,5))\n",
    "plt.plot(train_losses, label='train')\n",
    "plt.plot(val_losses, label='val')\n",
    "plt.xlabel('Evaluation iteration')\n",
    "plt.ylabel('Loss')\n",
    "plt.legend()\n",
    "plt.show()"
   ]
  },
  {
   "cell_type": "code",
   "execution_count": 147,
   "metadata": {},
   "outputs": [
    {
     "name": "stdout",
     "output_type": "stream",
     "text": [
      "\n",
      "\n",
      "OF Tithine\n",
      "That I molly do offer. Boke if.\n",
      "O, our debein.\n",
      "\n",
      "KE VO:\n",
      "Wer lored noth thas guctor the yepou do care of tour dak, Meentt to grease ougant.\n",
      "\n",
      "LAMENA:\n",
      "Thouch ong, o.\n",
      "For dies,\n",
      "It fold a heree weath dasay this he hem ey thy with qursburd, if,\n",
      "Blave af teer\n",
      "And, letys thellonnd, for wit vere imon didi, su the, one dothigh chaur how, hilly wrich lecreen hemars\n",
      "pothe the fecenderd a\n",
      "That dagit, seve gee porrait, Powt buand,\n",
      "Thit cecriecion, seds, hoave, villy the more, griis kiltind maken th the fartave he plefarling;\n",
      "Nath of norss,\n",
      "Lot lards!\n",
      "\n",
      "KICJY Lost I cand set it and cacloge a rem inius nothign''d Spost of hise bodd me, In by lrewery lapaves\n",
      "Annowe hamm: I arall lords you\n",
      "Turs shathern;\n",
      "whenour of Lennow annich eeve speing. butin hilcevid, in dim wintrise!\n",
      "\n",
      "And an selfflvin itfin! The deagised make to whe fillse on I me; in hat the tomy, wheyoar plert, your-alace\n",
      "bast I thou mucker.\n",
      "\n",
      "BYLENUS:\n",
      "Bat is the get boy, domed. Ungixing. Fhal, you sbpeag-onto hus quaght?\n",
      "\n",
      "FLET:\n",
      "Werves\n"
     ]
    }
   ],
   "source": [
    "# generate from the model\n",
    "context = torch.zeros((1, 1), dtype=torch.long, device=device)\n",
    "print(decode(model.generate(context, max_new_tokens=1000)[0].tolist()))"
   ]
  }
 ],
 "metadata": {
  "kernelspec": {
   "display_name": "Python 3",
   "language": "python",
   "name": "python3"
  },
  "language_info": {
   "codemirror_mode": {
    "name": "ipython",
    "version": 3
   },
   "file_extension": ".py",
   "mimetype": "text/x-python",
   "name": "python",
   "nbconvert_exporter": "python",
   "pygments_lexer": "ipython3",
   "version": "3.9.9"
  }
 },
 "nbformat": 4,
 "nbformat_minor": 2
}
