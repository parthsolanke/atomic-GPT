{
 "cells": [
  {
   "cell_type": "code",
   "execution_count": 1,
   "metadata": {},
   "outputs": [],
   "source": [
    "import torch\n",
    "import torch.nn as nn\n",
    "from torch.nn import functional as F"
   ]
  },
  {
   "cell_type": "code",
   "execution_count": 2,
   "metadata": {},
   "outputs": [],
   "source": [
    "# reading input data\n",
    "with open(\"../data/tinyshakespeare.txt\", \"r\", encoding=\"utf-8\") as file:\n",
    "    data = file.read()"
   ]
  },
  {
   "cell_type": "code",
   "execution_count": 3,
   "metadata": {},
   "outputs": [
    {
     "name": "stdout",
     "output_type": "stream",
     "text": [
      "Length of dataset w.r.t chars: 1115394\n",
      "\n",
      "First Citizen:\n",
      "Before we proceed any further, hear me speak.\n",
      "\n",
      "All:\n",
      "Speak, speak.\n",
      "\n",
      "First Citizen:\n",
      "You are all resolved rather to die than to famish?\n",
      "\n",
      "All:\n",
      "Resolved. resolved.\n",
      "\n",
      "First Citizen:\n",
      "First, you know Caius Marcius is chief enemy to the people.\n",
      "\n",
      "All:\n",
      "We know't, we know't.\n",
      "\n",
      "First Citizen:\n",
      "Let us kill him, and we'll have corn at our own price.\n",
      "Is't a verdict?\n",
      "\n",
      "All:\n",
      "No more talking on't; let it be done: away, away!\n",
      "\n",
      "Second Citizen:\n",
      "One word, good citizens.\n",
      "\n",
      "First Citizen:\n",
      "We are accounted poor citizens, the patricians good.\n",
      "What authority surfeits on would relieve us: if they\n",
      "would yield us but the superfluity, while it were\n",
      "wholesome, we might guess they relieved us humanely;\n",
      "but they think we are too dear: the leanness that\n",
      "afflicts us, the object of our misery, is as an\n",
      "inventory to particularise their abundance; our\n",
      "sufferance is a gain to them Let us revenge this with\n",
      "our pikes, ere we become rakes: for the gods know I\n",
      "speak this in hunger for bread, not in thirst for revenge.\n",
      "\n",
      "\n"
     ]
    }
   ],
   "source": [
    "print(f\"Length of dataset w.r.t chars: {len(data)}\\n\")\n",
    "print(data[:1000])"
   ]
  },
  {
   "cell_type": "code",
   "execution_count": 4,
   "metadata": {},
   "outputs": [
    {
     "name": "stdout",
     "output_type": "stream",
     "text": [
      "\n",
      " !$&',-.3:;?ABCDEFGHIJKLMNOPQRSTUVWXYZabcdefghijklmnopqrstuvwxyz\n",
      "65\n"
     ]
    }
   ],
   "source": [
    "# all unique chars\n",
    "chars = sorted(list(set(data)))\n",
    "vocab_size = len(chars)\n",
    "print(\"\".join(chars))\n",
    "print(vocab_size)"
   ]
  },
  {
   "cell_type": "code",
   "execution_count": 5,
   "metadata": {},
   "outputs": [
    {
     "name": "stdout",
     "output_type": "stream",
     "text": [
      "[20, 43, 50, 50, 53, 1, 61, 53, 56, 50, 42, 2]\n",
      "Hello World!\n"
     ]
    }
   ],
   "source": [
    "# tokenization (mapping for char to int)\n",
    "ch_to_id = {ch:i for i, ch in enumerate(chars)}\n",
    "id_to_ch = {i:ch for i, ch in enumerate(chars)}\n",
    "encode = lambda str: [ch_to_id[ch] for ch in str] # tokenizer: takes string outputs lst on ints\n",
    "decode = lambda lst: \"\".join([id_to_ch[i] for i in lst]) # decoder: takes lst of ids outputs a str\n",
    "\n",
    "# tests\n",
    "print(encode(\"Hello world!\"))\n",
    "print(decode(encode(\"Hello World!\")))"
   ]
  },
  {
   "cell_type": "code",
   "execution_count": 6,
   "metadata": {},
   "outputs": [
    {
     "name": "stdout",
     "output_type": "stream",
     "text": [
      "torch.Size([1115394]) torch.int64\n",
      "tensor([18, 47, 56, 57, 58,  1, 15, 47, 58, 47, 64, 43, 52, 10,  0, 14, 43, 44,\n",
      "        53, 56, 43,  1, 61, 43,  1, 54, 56, 53, 41, 43, 43, 42,  1, 39, 52, 63,\n",
      "         1, 44, 59, 56, 58, 46, 43, 56,  6,  1, 46, 43, 39, 56,  1, 51, 43,  1,\n",
      "        57, 54, 43, 39, 49,  8,  0,  0, 13, 50, 50, 10,  0, 31, 54, 43, 39, 49,\n",
      "         6,  1, 57, 54, 43, 39, 49,  8,  0,  0, 18, 47, 56, 57, 58,  1, 15, 47,\n",
      "        58, 47, 64, 43, 52, 10,  0, 37, 53, 59,  1, 39, 56, 43,  1, 39, 50, 50,\n",
      "         1, 56, 43, 57, 53, 50, 60, 43, 42,  1, 56, 39, 58, 46, 43, 56,  1, 58,\n",
      "        53,  1, 42, 47, 43,  1, 58, 46, 39, 52,  1, 58, 53,  1, 44, 39, 51, 47,\n",
      "        57, 46, 12,  0,  0, 13, 50, 50, 10,  0, 30, 43, 57, 53, 50, 60, 43, 42,\n",
      "         8,  1, 56, 43, 57, 53, 50, 60, 43, 42,  8,  0,  0, 18, 47, 56, 57, 58,\n",
      "         1, 15, 47, 58, 47, 64, 43, 52, 10,  0, 18, 47, 56, 57, 58,  6,  1, 63,\n",
      "        53, 59,  1, 49, 52, 53, 61,  1, 15, 39, 47, 59, 57,  1, 25, 39, 56, 41,\n",
      "        47, 59, 57,  1, 47, 57,  1, 41, 46, 47, 43, 44,  1, 43, 52, 43, 51, 63,\n",
      "         1, 58, 53,  1, 58, 46, 43,  1, 54, 43, 53, 54, 50, 43,  8,  0,  0, 13,\n",
      "        50, 50, 10,  0, 35, 43,  1, 49, 52, 53, 61,  5, 58,  6,  1, 61, 43,  1,\n",
      "        49, 52, 53, 61,  5, 58,  8,  0,  0, 18, 47, 56, 57, 58,  1, 15, 47, 58,\n",
      "        47, 64, 43, 52, 10,  0, 24, 43, 58,  1, 59, 57,  1, 49, 47, 50, 50,  1,\n",
      "        46, 47, 51,  6,  1, 39, 52, 42,  1, 61, 43,  5, 50, 50,  1, 46, 39, 60,\n",
      "        43,  1, 41, 53, 56, 52,  1, 39, 58,  1, 53, 59, 56,  1, 53, 61, 52,  1,\n",
      "        54, 56, 47, 41, 43,  8,  0, 21, 57,  5, 58,  1, 39,  1, 60, 43, 56, 42,\n",
      "        47, 41, 58, 12,  0,  0, 13, 50, 50, 10,  0, 26, 53,  1, 51, 53, 56, 43,\n",
      "         1, 58, 39, 50, 49, 47, 52, 45,  1, 53, 52,  5, 58, 11,  1, 50, 43, 58,\n",
      "         1, 47, 58,  1, 40, 43,  1, 42, 53, 52, 43, 10,  1, 39, 61, 39, 63,  6,\n",
      "         1, 39, 61, 39, 63,  2,  0,  0, 31, 43, 41, 53, 52, 42,  1, 15, 47, 58,\n",
      "        47, 64, 43, 52, 10,  0, 27, 52, 43,  1, 61, 53, 56, 42,  6,  1, 45, 53,\n",
      "        53, 42,  1, 41, 47, 58, 47, 64, 43, 52, 57,  8,  0,  0, 18, 47, 56, 57,\n",
      "        58,  1, 15, 47, 58, 47, 64, 43, 52, 10,  0, 35, 43,  1, 39, 56, 43,  1,\n",
      "        39, 41, 41, 53, 59, 52, 58, 43, 42,  1, 54, 53, 53, 56,  1, 41, 47, 58,\n",
      "        47, 64, 43, 52, 57,  6,  1, 58, 46, 43,  1, 54, 39, 58, 56, 47, 41, 47,\n",
      "        39, 52, 57,  1, 45, 53, 53, 42,  8,  0, 35, 46, 39, 58,  1, 39, 59, 58,\n",
      "        46, 53, 56, 47, 58, 63,  1, 57, 59, 56, 44, 43, 47, 58, 57,  1, 53, 52,\n",
      "         1, 61, 53, 59, 50, 42,  1, 56, 43, 50, 47, 43, 60, 43,  1, 59, 57, 10,\n",
      "         1, 47, 44,  1, 58, 46, 43, 63,  0, 61, 53, 59, 50, 42,  1, 63, 47, 43,\n",
      "        50, 42,  1, 59, 57,  1, 40, 59, 58,  1, 58, 46, 43,  1, 57, 59, 54, 43,\n",
      "        56, 44, 50, 59, 47, 58, 63,  6,  1, 61, 46, 47, 50, 43,  1, 47, 58,  1,\n",
      "        61, 43, 56, 43,  0, 61, 46, 53, 50, 43, 57, 53, 51, 43,  6,  1, 61, 43,\n",
      "         1, 51, 47, 45, 46, 58,  1, 45, 59, 43, 57, 57,  1, 58, 46, 43, 63,  1,\n",
      "        56, 43, 50, 47, 43, 60, 43, 42,  1, 59, 57,  1, 46, 59, 51, 39, 52, 43,\n",
      "        50, 63, 11,  0, 40, 59, 58,  1, 58, 46, 43, 63,  1, 58, 46, 47, 52, 49,\n",
      "         1, 61, 43,  1, 39, 56, 43,  1, 58, 53, 53,  1, 42, 43, 39, 56, 10,  1,\n",
      "        58, 46, 43,  1, 50, 43, 39, 52, 52, 43, 57, 57,  1, 58, 46, 39, 58,  0,\n",
      "        39, 44, 44, 50, 47, 41, 58, 57,  1, 59, 57,  6,  1, 58, 46, 43,  1, 53,\n",
      "        40, 48, 43, 41, 58,  1, 53, 44,  1, 53, 59, 56,  1, 51, 47, 57, 43, 56,\n",
      "        63,  6,  1, 47, 57,  1, 39, 57,  1, 39, 52,  0, 47, 52, 60, 43, 52, 58,\n",
      "        53, 56, 63,  1, 58, 53,  1, 54, 39, 56, 58, 47, 41, 59, 50, 39, 56, 47,\n",
      "        57, 43,  1, 58, 46, 43, 47, 56,  1, 39, 40, 59, 52, 42, 39, 52, 41, 43,\n",
      "        11,  1, 53, 59, 56,  0, 57, 59, 44, 44, 43, 56, 39, 52, 41, 43,  1, 47,\n",
      "        57,  1, 39,  1, 45, 39, 47, 52,  1, 58, 53,  1, 58, 46, 43, 51,  1, 24,\n",
      "        43, 58,  1, 59, 57,  1, 56, 43, 60, 43, 52, 45, 43,  1, 58, 46, 47, 57,\n",
      "         1, 61, 47, 58, 46,  0, 53, 59, 56,  1, 54, 47, 49, 43, 57,  6,  1, 43,\n",
      "        56, 43,  1, 61, 43,  1, 40, 43, 41, 53, 51, 43,  1, 56, 39, 49, 43, 57,\n",
      "        10,  1, 44, 53, 56,  1, 58, 46, 43,  1, 45, 53, 42, 57,  1, 49, 52, 53,\n",
      "        61,  1, 21,  0, 57, 54, 43, 39, 49,  1, 58, 46, 47, 57,  1, 47, 52,  1,\n",
      "        46, 59, 52, 45, 43, 56,  1, 44, 53, 56,  1, 40, 56, 43, 39, 42,  6,  1,\n",
      "        52, 53, 58,  1, 47, 52,  1, 58, 46, 47, 56, 57, 58,  1, 44, 53, 56,  1,\n",
      "        56, 43, 60, 43, 52, 45, 43,  8,  0,  0])\n"
     ]
    }
   ],
   "source": [
    "# tokenizing enitire dataset and converting them into tensors\n",
    "data = torch.tensor(encode(data), dtype=torch.long)\n",
    "print(data.shape, data.dtype)\n",
    "print(data[:1000]) # 1st 1000 char tensors"
   ]
  },
  {
   "cell_type": "code",
   "execution_count": 7,
   "metadata": {},
   "outputs": [],
   "source": [
    "# train, val split\n",
    "thresh = int(0.9 * len(data))\n",
    "train_data = data[:thresh] # 90%\n",
    "val_data = data[thresh:] # 10%"
   ]
  },
  {
   "cell_type": "code",
   "execution_count": 8,
   "metadata": {},
   "outputs": [
    {
     "name": "stdout",
     "output_type": "stream",
     "text": [
      "Inputs shape: torch.Size([4, 8])\n",
      "Inputs: tensor([[ 1, 58, 46, 43, 43,  6,  1, 59],\n",
      "        [58, 46, 43, 43,  1, 61, 56, 53],\n",
      "        [47, 52, 45,  1, 58, 46, 43, 43],\n",
      "        [56, 60, 47, 52, 45, 51, 39, 52]])\n",
      "\n",
      "Target shape: torch.Size([4, 8])\n",
      "Target: tensor([[58, 46, 43, 43,  6,  1, 59, 54],\n",
      "        [46, 43, 43,  1, 61, 56, 53, 52],\n",
      "        [52, 45,  1, 58, 46, 43, 43,  1],\n",
      "        [60, 47, 52, 45, 51, 39, 52, 10]])\n",
      "\n",
      "--------------------------------------------------\n",
      "\n",
      "Input: [1], Target: 58\n",
      "Input: [1, 58], Target: 46\n",
      "Input: [1, 58, 46], Target: 43\n",
      "Input: [1, 58, 46, 43], Target: 43\n",
      "Input: [1, 58, 46, 43, 43], Target: 6\n",
      "Input: [1, 58, 46, 43, 43, 6], Target: 1\n",
      "Input: [1, 58, 46, 43, 43, 6, 1], Target: 59\n",
      "Input: [1, 58, 46, 43, 43, 6, 1, 59], Target: 54\n",
      "Input: [58], Target: 46\n",
      "Input: [58, 46], Target: 43\n",
      "Input: [58, 46, 43], Target: 43\n",
      "Input: [58, 46, 43, 43], Target: 1\n",
      "Input: [58, 46, 43, 43, 1], Target: 61\n",
      "Input: [58, 46, 43, 43, 1, 61], Target: 56\n",
      "Input: [58, 46, 43, 43, 1, 61, 56], Target: 53\n",
      "Input: [58, 46, 43, 43, 1, 61, 56, 53], Target: 52\n",
      "Input: [47], Target: 52\n",
      "Input: [47, 52], Target: 45\n",
      "Input: [47, 52, 45], Target: 1\n",
      "Input: [47, 52, 45, 1], Target: 58\n",
      "Input: [47, 52, 45, 1, 58], Target: 46\n",
      "Input: [47, 52, 45, 1, 58, 46], Target: 43\n",
      "Input: [47, 52, 45, 1, 58, 46, 43], Target: 43\n",
      "Input: [47, 52, 45, 1, 58, 46, 43, 43], Target: 1\n",
      "Input: [56], Target: 60\n",
      "Input: [56, 60], Target: 47\n",
      "Input: [56, 60, 47], Target: 52\n",
      "Input: [56, 60, 47, 52], Target: 45\n",
      "Input: [56, 60, 47, 52, 45], Target: 51\n",
      "Input: [56, 60, 47, 52, 45, 51], Target: 39\n",
      "Input: [56, 60, 47, 52, 45, 51, 39], Target: 52\n",
      "Input: [56, 60, 47, 52, 45, 51, 39, 52], Target: 10\n"
     ]
    }
   ],
   "source": [
    "# dataloader: outs batches of x and y pairs\n",
    "batch_size = 4 # n sequence to process parallaly\n",
    "block_size = 8 # context length\n",
    "\n",
    "def get_batches(split):\n",
    "    \"\"\"\n",
    "    generate batched in and out pairs\n",
    "    \"\"\"\n",
    "    data = train_data if split == \"train\" else val_data\n",
    "    idx = torch.randint(len(data) - block_size, (batch_size, ))\n",
    "    x = torch.stack([data[i:i + block_size] for i in idx])\n",
    "    y = torch.stack([data[i + 1: i + block_size + 1] for i in idx])\n",
    "    return x, y\n",
    "\n",
    "mini_x, mini_y = get_batches(\"train\") # batch\n",
    "print(f\"Inputs shape: {mini_x.shape}\\nInputs: {mini_x}\\n\")\n",
    "print(f\"Target shape: {mini_y.shape}\\nTarget: {mini_y}\\n\")\n",
    "print(\"--------------------------------------------------\\n\")\n",
    "\n",
    "# insights into the batched data\n",
    "for b in range(batch_size):\n",
    "    for t in range(block_size):\n",
    "        context = mini_x[b, :t+1]\n",
    "        target = mini_y[b, t]\n",
    "        print(f\"Input: {context.tolist()}, Target: {target}\")"
   ]
  },
  {
   "cell_type": "code",
   "execution_count": 15,
   "metadata": {},
   "outputs": [
    {
     "name": "stdout",
     "output_type": "stream",
     "text": [
      "Loss: 4.637217998504639\n"
     ]
    }
   ],
   "source": [
    "# bigram class\n",
    "class BigramLanguageModel(nn.Module):\n",
    "\n",
    "    def __init__(self, vocab_size):\n",
    "        super().__init__()\n",
    "        # each token directly reads off the logits for the next token from a lookup table\n",
    "        self.token_embedding_table = nn.Embedding(vocab_size, vocab_size)\n",
    "\n",
    "    def forward(self, idx, targets=None):\n",
    "        # idx and targets are both (B,T) tensor of integers batch, time/context\n",
    "        logits = self.token_embedding_table(idx) # (B,T,C)\n",
    "\n",
    "        if targets is None:\n",
    "            loss = None\n",
    "        else:\n",
    "            B, T, C = logits.shape\n",
    "            logits = logits.view(B*T, C)\n",
    "            targets = targets.view(B*T)\n",
    "            loss = F.cross_entropy(logits, targets)\n",
    "\n",
    "        return logits, loss\n",
    "\n",
    "    def generate(self, idx, max_new_tokens):\n",
    "        # idx is (B, T) array of indices in the current context\n",
    "        for _ in range(max_new_tokens):\n",
    "            # get the predictions\n",
    "            logits, loss = self(idx)\n",
    "            # focus only on the last time step\n",
    "            logits = logits[:, -1, :] # becomes (B, C)\n",
    "            # apply softmax to get probabilities\n",
    "            probs = F.softmax(logits, dim=-1) # (B, C)\n",
    "            # sample from the distribution\n",
    "            idx_next = torch.multinomial(probs, num_samples=1) # (B, 1)\n",
    "            # append sampled index to the running sequence\n",
    "            idx = torch.cat((idx, idx_next), dim=1) # (B, T+1)\n",
    "        return idx\n",
    "    \n",
    "bigram_model = BigramLanguageModel(vocab_size)\n",
    "logits, loss = bigram_model(mini_x, mini_y)\n",
    "print(f\"Loss: {loss}\")"
   ]
  },
  {
   "cell_type": "code",
   "execution_count": 52,
   "metadata": {},
   "outputs": [
    {
     "name": "stdout",
     "output_type": "stream",
     "text": [
      "\n",
      ",iCDQENe,!N-hi:EW\n",
      "Es3Rj.eRylzQTmO\n",
      "-$v&J3,tRDu;BZHskub:SvJD-lWEwDmvH.i.Mz:g,?;e:ILsWLM\n",
      "wBW:F.TxsXlXfj\n"
     ]
    }
   ],
   "source": [
    "# predictions before training\n",
    "print(decode(bigram_model.generate(idx = torch.zeros((1, 1), dtype=torch.long), max_new_tokens=100)[0].tolist()))"
   ]
  },
  {
   "cell_type": "code",
   "execution_count": 23,
   "metadata": {},
   "outputs": [],
   "source": [
    "# optimizer\n",
    "optimizer = torch.optim.AdamW(bigram_model.parameters(), lr=1e-3)"
   ]
  },
  {
   "cell_type": "code",
   "execution_count": 53,
   "metadata": {},
   "outputs": [
    {
     "name": "stdout",
     "output_type": "stream",
     "text": [
      "Epoch: 1000, Loss: 3.745992422103882\n",
      "Epoch: 2000, Loss: 3.2971129417419434\n",
      "Epoch: 3000, Loss: 2.6374945640563965\n",
      "Epoch: 4000, Loss: 2.7319467067718506\n",
      "Epoch: 5000, Loss: 2.515306234359741\n",
      "Epoch: 6000, Loss: 2.4885129928588867\n",
      "Epoch: 7000, Loss: 2.5165915489196777\n",
      "Epoch: 8000, Loss: 2.4704906940460205\n",
      "Epoch: 9000, Loss: 2.444457530975342\n",
      "Epoch: 10000, Loss: 2.5025200843811035\n"
     ]
    }
   ],
   "source": [
    "# Training bigram model\n",
    "batch_size = 32\n",
    "epochs = 10000\n",
    "\n",
    "for epoch in range(epochs):\n",
    "    # getting batches\n",
    "    xb, yb = get_batches(\"train\")\n",
    "    \n",
    "    # loss\n",
    "    logits, loss = bigram_model(xb, yb)\n",
    "    \n",
    "    # setting grad to zero\n",
    "    optimizer.zero_grad(set_to_none=True)\n",
    "    \n",
    "    # backprop\n",
    "    loss.backward()\n",
    "    \n",
    "    # update params\n",
    "    optimizer.step()\n",
    "    if (epoch+1) % 1000 == 0:\n",
    "        print(f\"Epoch: {epoch+1}, Loss: {loss.item()}\")"
   ]
  },
  {
   "cell_type": "code",
   "execution_count": 61,
   "metadata": {},
   "outputs": [
    {
     "name": "stdout",
     "output_type": "stream",
     "text": [
      "\n",
      "\n",
      "Nont apellise, illaill a l l; trelyonu?\n",
      "Bus\n",
      "Whanghe wit d m.\n",
      "An wil thin, b iss therad w sourd t r.\n",
      "EDWe gheshas hieeshe nt cha soft oulfistint g,\n",
      "me, breno hen jes: cky alers y thind wo a y toubeaplde s s?\n",
      "\n",
      "A: st;\n",
      "INaththuroul I SS:\n",
      "NG ththoulllf-sol cke s m ya'e ororgrche tllmanousu am wal DUSI s t wir air y re ouncondeckil; ty; anfasthey wor wiceasen: sthabl, f s\n",
      "Mas\n",
      "\n",
      "AD y cer tol ath, seng.\n",
      "Whs acoff's anghy besiamu :\n",
      "Angel oved wher e o vern mero;\n",
      "Sond bleey3NGofoferaves an hte ce ivacoure\n"
     ]
    }
   ],
   "source": [
    "# predictions after training\n",
    "print(decode(bigram_model.generate(idx = torch.zeros((1, 1), dtype=torch.long), max_new_tokens=500)[0].tolist()))"
   ]
  },
  {
   "cell_type": "code",
   "execution_count": 65,
   "metadata": {},
   "outputs": [
    {
     "name": "stdout",
     "output_type": "stream",
     "text": [
      "x Shape: torch.Size([4, 8, 2])\n"
     ]
    },
    {
     "data": {
      "text/plain": [
       "(tensor([[ 1.7436,  0.4668],\n",
       "         [ 0.3448,  0.2321],\n",
       "         [ 0.0835, -0.2793],\n",
       "         [ 0.1376,  0.0803],\n",
       "         [ 0.1295,  1.4987],\n",
       "         [ 0.2348,  0.7327],\n",
       "         [-0.8297,  0.0313],\n",
       "         [-0.4918, -1.2184]]),\n",
       " tensor([[1.7436, 0.4668],\n",
       "         [1.0442, 0.3494],\n",
       "         [0.7240, 0.1398],\n",
       "         [0.5774, 0.1250],\n",
       "         [0.4878, 0.3997],\n",
       "         [0.4456, 0.4552],\n",
       "         [0.2634, 0.3947],\n",
       "         [0.1690, 0.1930]]))"
      ]
     },
     "execution_count": 65,
     "metadata": {},
     "output_type": "execute_result"
    }
   ],
   "source": [
    "# intuition for self-attention\n",
    "B, T, C = 4, 8, 2 # Batch, Time(context length), Channels(embeddings or info at B,T)\n",
    "x = torch.randn(B, T, C)\n",
    "print(f\"x Shape: {x.shape}\")\n",
    "\n",
    "# we want ith token to have attention to all tokens from i-T to i\n",
    "# hence x[b, t] = mean of i<t x[b, i]\n",
    "xbow = torch.zeros((B, T, C)) # averaging\n",
    "for b in range(B):\n",
    "    for t in range(T):\n",
    "        xprev = x[b, :t+1] # (t, C)\n",
    "        xbow[b, t] = torch.mean(xprev, 0)\n",
    "x[0], xbow[0]"
   ]
  },
  {
   "cell_type": "code",
   "execution_count": null,
   "metadata": {},
   "outputs": [],
   "source": []
  }
 ],
 "metadata": {
  "kernelspec": {
   "display_name": "Python 3",
   "language": "python",
   "name": "python3"
  },
  "language_info": {
   "codemirror_mode": {
    "name": "ipython",
    "version": 3
   },
   "file_extension": ".py",
   "mimetype": "text/x-python",
   "name": "python",
   "nbconvert_exporter": "python",
   "pygments_lexer": "ipython3",
   "version": "3.9.9"
  }
 },
 "nbformat": 4,
 "nbformat_minor": 2
}
